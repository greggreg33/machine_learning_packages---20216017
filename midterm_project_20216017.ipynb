{
 "cells": [
  {
   "cell_type": "markdown",
   "id": "mobile-johns",
   "metadata": {},
   "source": [
    "# Load Packages"
   ]
  },
  {
   "cell_type": "code",
   "execution_count": 45,
   "id": "cosmetic-bolivia",
   "metadata": {},
   "outputs": [],
   "source": [
    "import numpy as np\n",
    "from matplotlib import pyplot as plt\n",
    "%matplotlib inline"
   ]
  },
  {
   "cell_type": "markdown",
   "id": "immediate-briefs",
   "metadata": {},
   "source": [
    "# Load Data Points (Do not modify the following block)"
   ]
  },
  {
   "cell_type": "code",
   "execution_count": 4,
   "id": "surgical-background",
   "metadata": {},
   "outputs": [
    {
     "name": "stdout",
     "output_type": "stream",
     "text": [
      "=================================\n",
      "We have 15 number of data\n",
      "=================================\n",
      "Coefficients of the original polynomial\n",
      "w0:-0.467  w1:-0.005  w2:0.281  w3:-0.054  \n",
      "=================================\n"
     ]
    },
    {
     "data": {
      "image/png": "[encoded data removed]",
      "text/plain": [
       "<Figure size 432x288 with 1 Axes>"
      ]
     },
     "metadata": {
      "needs_background": "light"
     },
     "output_type": "display_data"
    }
   ],
   "source": [
    "with open('training_data.npz', 'rb') as f:\n",
    "    data = np.load(f)\n",
    "\n",
    "    x_list = data['x_list']\n",
    "    y_list = data['y_list']\n",
    "\n",
    "    x_data = data['x_data']\n",
    "    y_data = data['y_data']\n",
    "    n_data = len(x_data)\n",
    "    \n",
    "    w = data['w']\n",
    "    original_degree = data['order']\n",
    "    \n",
    "# Print information of original function.\n",
    "print(\"=================================\")\n",
    "print(\"We have\", n_data, \"number of data\")\n",
    "\n",
    "print(\"=================================\")\n",
    "weight_info_string = ''\n",
    "for d in range(original_degree):\n",
    "    weight_info_string += 'w'+str(d)+':'+str(round(w[d],ndigits=3))+'  '\n",
    "print(\"Coefficients of the original polynomial\")\n",
    "print(weight_info_string)\n",
    "print(\"=================================\")\n",
    "    \n",
    "plt.plot(x_list, y_list, 'b:', linewidth=2, label=\"Original Function\")\n",
    "plt.scatter(x_data, y_data, s=50, c='r', label=\"Data Points\")\n",
    "plt.xlim([np.min(x_list),np.max(x_list)])\n",
    "plt.ylim([np.min(y_data),np.max(y_data)])\n",
    "plt.legend(prop={'size': 12})\n",
    "plt.title(\"Data Plot\")\n",
    "plt.show()"
   ]
  },
  {
   "cell_type": "markdown",
   "id": "isolated-airfare",
   "metadata": {},
   "source": [
    "# Polynomial Regression (Programming Assignment)\n",
    "### Variable Explanation (Do not change variable names)\n",
    "- 'w' is true coefficients of the original polynomial function\n",
    "- 'original_degree' is the order of the original polynomial function\n",
    "- 'x_list' is a list of the points at $x$-axis\n",
    "- 'y_list' is a list of function value $f(x)$ corresponding to 'x_list'. In other words, y_list = $f($x_list$)$\n",
    "- 'x_data' is an input data\n",
    "- 'y_data' is an output data\n",
    "- 'n_data' is the number of data points\n",
    "\n",
    "### Our goal is to estimate 'w' from data points, 'x_data' and 'y_data'. Answer the following problems."
   ]
  },
  {
   "cell_type": "markdown",
   "id": "growing-leather",
   "metadata": {},
   "source": [
    "### 1. Compute a Vandermonde matrix when the degree of polynomial is $4$ (30pt)\n",
    "- The variable 'degree' is the order of polynomial. In this problem, we set degree=$4$\n",
    "- Use the variable 'A' for the Vandermonde matrix. Now, 'A' is initialized as a zero matrix whose elements are all zero. Fill in the element of the Vandermonde matrix by using power operator (\\*\\*), for loop, and np.concatenation."
   ]
  },
  {
   "cell_type": "code",
   "execution_count": 5,
   "id": "outstanding-oriental",
   "metadata": {},
   "outputs": [],
   "source": [
    "degree = 4\n",
    "b = np.array([w[0],w[1]*x_list[0],w[2]*x_list[0]**2,w[3]*x_list[0]**3,w[4]+x_list[0]**4])\n",
    "for i in [1,2,3,4,5,6,7,8,9,10,11,12,13,14]:\n",
    "    a = np.array([w[0],w[1]*x_list[i],w[2]*x_list[i]**2,w[3]*x_list[i]**3,w[4]+x_list[i]**4])\n",
    "    b = np.concatenate((b,a), axis=0)\n",
    "    i = i+1\n",
    "    if i ==n_data:\n",
    "        continue\n",
    "A = b.reshape((n_data,degree+1))"
   ]
  },
  {
   "cell_type": "markdown",
   "id": "mounted-fisher",
   "metadata": {},
   "source": [
    "### Print results (do not modify the following block)"
   ]
  },
  {
   "cell_type": "code",
   "execution_count": 6,
   "id": "mediterranean-brake",
   "metadata": {
    "scrolled": false
   },
   "outputs": [
    {
     "name": "stdout",
     "output_type": "stream",
     "text": [
      "[[-4.67292709e-01  1.08200313e-02  1.12565686e+00  4.29130779e-01\n",
      "   1.63444436e+01]\n",
      " [-4.67292709e-01  1.06014449e-02  1.08063518e+00  4.03644728e-01\n",
      "   1.50901690e+01]\n",
      " [-4.67292709e-01  1.03828584e-02  1.03653231e+00  3.79188273e-01\n",
      "   1.39111250e+01]\n",
      " [-4.67292709e-01  1.01642719e-02  9.93348247e-01  3.55740185e-01\n",
      "   1.28042415e+01]\n",
      " [-4.67292709e-01  9.94568538e-03  9.51082996e-01  3.33279237e-01\n",
      "   1.17665124e+01]\n",
      " [-4.67292709e-01  9.72709888e-03  9.09736555e-01  3.11784199e-01\n",
      "   1.07949956e+01]\n",
      " [-4.67292709e-01  9.50851239e-03  8.69308923e-01  2.91233842e-01\n",
      "   9.88681277e+00]\n",
      " [-4.67292709e-01  9.28992590e-03  8.29800102e-01  2.71606937e-01\n",
      "   9.03914970e+00]\n",
      " [-4.67292709e-01  9.07133941e-03  7.91210090e-01  2.52882257e-01\n",
      "   8.24925610e+00]\n",
      " [-4.67292709e-01  8.85275292e-03  7.53538888e-01  2.35038571e-01\n",
      "   7.51444564e+00]\n",
      " [-4.67292709e-01  8.63416643e-03  7.16786496e-01  2.18054651e-01\n",
      "   6.83209594e+00]\n",
      " [-4.67292709e-01  8.41557993e-03  6.80952914e-01  2.01909269e-01\n",
      "   6.19964859e+00]\n",
      " [-4.67292709e-01  8.19699344e-03  6.46038142e-01  1.86581195e-01\n",
      "   5.61460914e+00]\n",
      " [-4.67292709e-01  7.97840695e-03  6.12042179e-01  1.72049202e-01\n",
      "   5.07454710e+00]\n",
      " [-4.67292709e-01  7.75982046e-03  5.78965026e-01  1.58292059e-01\n",
      "   4.57709594e+00]]\n"
     ]
    }
   ],
   "source": [
    "print(A)"
   ]
  },
  {
   "cell_type": "markdown",
   "id": "approximate-italic",
   "metadata": {},
   "source": [
    "### 2. Compute the coefficients of polynomial regression using a $4$ degree polynomial  (40pt)\n",
    "- Use the variable 'degree' and the Vandermonde matrix 'A' in Problem 1.\n",
    "- The variable 'w_est' is the coefficients of polynomial regression. Now, 'w_est' is initialized as a zero vector. Compute the 'w_est' from 'A' and 'y'\n",
    "- The variable 'y_est' is an estimated function value corresponding to the input points 'x_list'. Now, it is a zero list and fill the list by computing the estimated function values. In other words, y_est = $\\hat{f}($x_list$)$"
   ]
  },
  {
   "cell_type": "code",
   "execution_count": 54,
   "id": "finished-incentive",
   "metadata": {},
   "outputs": [],
   "source": [
    "c = np.matmul(np.linalg.inv(np.matmul(A.T, A)), A.T) \n",
    "for i in [0,1,2,3,4,5,6,7,8,9,10,11,12,13,14]:\n",
    "    y = y_list[i]\n",
    "w_est = c*y\n",
    "for i in [0,1,2,3,4,5,6,7,8,9,10,11,12,13,14]:\n",
    "    x = x_list[i]\n",
    "y_est = w_est*x"
   ]
  },
  {
   "cell_type": "markdown",
   "id": "exterior-donor",
   "metadata": {},
   "source": [
    "### Print results (do not modify the following block)"
   ]
  },
  {
   "cell_type": "code",
   "execution_count": 70,
   "id": "innovative-truth",
   "metadata": {},
   "outputs": [
    {
     "ename": "ValueError",
     "evalue": "x and y must have same first dimension, but have shapes (1,) and (5, 15)",
     "output_type": "error",
     "traceback": [
      "\u001b[1;31m---------------------------------------------------------------------------\u001b[0m",
      "\u001b[1;31mValueError\u001b[0m                                Traceback (most recent call last)",
      "\u001b[1;32m<ipython-input-70-d8c8e6cc5c2f>\u001b[0m in \u001b[0;36m<module>\u001b[1;34m\u001b[0m\n\u001b[0;32m      1\u001b[0m \u001b[0mplt\u001b[0m\u001b[1;33m.\u001b[0m\u001b[0mplot\u001b[0m\u001b[1;33m(\u001b[0m\u001b[0mx_list\u001b[0m\u001b[1;33m,\u001b[0m \u001b[0my_list\u001b[0m\u001b[1;33m,\u001b[0m \u001b[1;34m'b:'\u001b[0m\u001b[1;33m,\u001b[0m \u001b[0mlinewidth\u001b[0m\u001b[1;33m=\u001b[0m\u001b[1;36m2\u001b[0m\u001b[1;33m,\u001b[0m \u001b[0mlabel\u001b[0m\u001b[1;33m=\u001b[0m\u001b[1;34m\"Original Function\"\u001b[0m\u001b[1;33m)\u001b[0m\u001b[1;33m\u001b[0m\u001b[1;33m\u001b[0m\u001b[0m\n\u001b[0;32m      2\u001b[0m \u001b[1;32mfor\u001b[0m \u001b[0mi\u001b[0m \u001b[1;32min\u001b[0m \u001b[1;33m[\u001b[0m\u001b[1;36m0\u001b[0m\u001b[1;33m,\u001b[0m\u001b[1;36m1\u001b[0m\u001b[1;33m,\u001b[0m\u001b[1;36m2\u001b[0m\u001b[1;33m,\u001b[0m\u001b[1;36m3\u001b[0m\u001b[1;33m,\u001b[0m\u001b[1;36m4\u001b[0m\u001b[1;33m,\u001b[0m\u001b[1;36m5\u001b[0m\u001b[1;33m,\u001b[0m\u001b[1;36m6\u001b[0m\u001b[1;33m,\u001b[0m\u001b[1;36m7\u001b[0m\u001b[1;33m,\u001b[0m\u001b[1;36m8\u001b[0m\u001b[1;33m,\u001b[0m\u001b[1;36m9\u001b[0m\u001b[1;33m,\u001b[0m\u001b[1;36m10\u001b[0m\u001b[1;33m,\u001b[0m\u001b[1;36m11\u001b[0m\u001b[1;33m,\u001b[0m\u001b[1;36m12\u001b[0m\u001b[1;33m,\u001b[0m\u001b[1;36m13\u001b[0m\u001b[1;33m,\u001b[0m\u001b[1;36m14\u001b[0m\u001b[1;33m]\u001b[0m\u001b[1;33m:\u001b[0m\u001b[1;33m\u001b[0m\u001b[1;33m\u001b[0m\u001b[0m\n\u001b[1;32m----> 3\u001b[1;33m     \u001b[0mplt\u001b[0m\u001b[1;33m.\u001b[0m\u001b[0mplot\u001b[0m\u001b[1;33m(\u001b[0m\u001b[0mx_list\u001b[0m\u001b[1;33m[\u001b[0m\u001b[0mi\u001b[0m\u001b[1;33m]\u001b[0m\u001b[1;33m,\u001b[0m \u001b[0my_est\u001b[0m\u001b[1;33m,\u001b[0m \u001b[1;34m'm-'\u001b[0m\u001b[1;33m,\u001b[0m \u001b[0mlinewidth\u001b[0m\u001b[1;33m=\u001b[0m\u001b[1;36m2\u001b[0m\u001b[1;33m,\u001b[0m \u001b[0mlabel\u001b[0m\u001b[1;33m=\u001b[0m\u001b[1;34m\"Polynomial Regression (d={})\"\u001b[0m\u001b[1;33m.\u001b[0m\u001b[0mformat\u001b[0m\u001b[1;33m(\u001b[0m\u001b[0mdegree\u001b[0m\u001b[1;33m)\u001b[0m\u001b[1;33m)\u001b[0m\u001b[1;33m\u001b[0m\u001b[1;33m\u001b[0m\u001b[0m\n\u001b[0m\u001b[0;32m      4\u001b[0m \u001b[0mplt\u001b[0m\u001b[1;33m.\u001b[0m\u001b[0mscatter\u001b[0m\u001b[1;33m(\u001b[0m\u001b[0mx_data\u001b[0m\u001b[1;33m,\u001b[0m \u001b[0my_data\u001b[0m\u001b[1;33m,\u001b[0m \u001b[0ms\u001b[0m\u001b[1;33m=\u001b[0m\u001b[1;36m50\u001b[0m\u001b[1;33m,\u001b[0m \u001b[0mc\u001b[0m\u001b[1;33m=\u001b[0m\u001b[1;34m'r'\u001b[0m\u001b[1;33m,\u001b[0m \u001b[0mlabel\u001b[0m\u001b[1;33m=\u001b[0m\u001b[1;34m\"Data Points\"\u001b[0m\u001b[1;33m)\u001b[0m\u001b[1;33m\u001b[0m\u001b[1;33m\u001b[0m\u001b[0m\n\u001b[0;32m      5\u001b[0m \u001b[0mplt\u001b[0m\u001b[1;33m.\u001b[0m\u001b[0mxlim\u001b[0m\u001b[1;33m(\u001b[0m\u001b[1;33m[\u001b[0m\u001b[0mnp\u001b[0m\u001b[1;33m.\u001b[0m\u001b[0mmin\u001b[0m\u001b[1;33m(\u001b[0m\u001b[0mx_list\u001b[0m\u001b[1;33m)\u001b[0m\u001b[1;33m,\u001b[0m\u001b[0mnp\u001b[0m\u001b[1;33m.\u001b[0m\u001b[0mmax\u001b[0m\u001b[1;33m(\u001b[0m\u001b[0mx_list\u001b[0m\u001b[1;33m)\u001b[0m\u001b[1;33m]\u001b[0m\u001b[1;33m)\u001b[0m\u001b[1;33m\u001b[0m\u001b[1;33m\u001b[0m\u001b[0m\n",
      "\u001b[1;32mc:\\users\\김준한\\appdata\\local\\programs\\python\\python39\\lib\\site-packages\\matplotlib\\pyplot.py\u001b[0m in \u001b[0;36mplot\u001b[1;34m(scalex, scaley, data, *args, **kwargs)\u001b[0m\n\u001b[0;32m   3017\u001b[0m \u001b[1;33m@\u001b[0m\u001b[0m_copy_docstring_and_deprecators\u001b[0m\u001b[1;33m(\u001b[0m\u001b[0mAxes\u001b[0m\u001b[1;33m.\u001b[0m\u001b[0mplot\u001b[0m\u001b[1;33m)\u001b[0m\u001b[1;33m\u001b[0m\u001b[1;33m\u001b[0m\u001b[0m\n\u001b[0;32m   3018\u001b[0m \u001b[1;32mdef\u001b[0m \u001b[0mplot\u001b[0m\u001b[1;33m(\u001b[0m\u001b[1;33m*\u001b[0m\u001b[0margs\u001b[0m\u001b[1;33m,\u001b[0m \u001b[0mscalex\u001b[0m\u001b[1;33m=\u001b[0m\u001b[1;32mTrue\u001b[0m\u001b[1;33m,\u001b[0m \u001b[0mscaley\u001b[0m\u001b[1;33m=\u001b[0m\u001b[1;32mTrue\u001b[0m\u001b[1;33m,\u001b[0m \u001b[0mdata\u001b[0m\u001b[1;33m=\u001b[0m\u001b[1;32mNone\u001b[0m\u001b[1;33m,\u001b[0m \u001b[1;33m**\u001b[0m\u001b[0mkwargs\u001b[0m\u001b[1;33m)\u001b[0m\u001b[1;33m:\u001b[0m\u001b[1;33m\u001b[0m\u001b[1;33m\u001b[0m\u001b[0m\n\u001b[1;32m-> 3019\u001b[1;33m     return gca().plot(\n\u001b[0m\u001b[0;32m   3020\u001b[0m         \u001b[1;33m*\u001b[0m\u001b[0margs\u001b[0m\u001b[1;33m,\u001b[0m \u001b[0mscalex\u001b[0m\u001b[1;33m=\u001b[0m\u001b[0mscalex\u001b[0m\u001b[1;33m,\u001b[0m \u001b[0mscaley\u001b[0m\u001b[1;33m=\u001b[0m\u001b[0mscaley\u001b[0m\u001b[1;33m,\u001b[0m\u001b[1;33m\u001b[0m\u001b[1;33m\u001b[0m\u001b[0m\n\u001b[0;32m   3021\u001b[0m         **({\"data\": data} if data is not None else {}), **kwargs)\n",
      "\u001b[1;32mc:\\users\\김준한\\appdata\\local\\programs\\python\\python39\\lib\\site-packages\\matplotlib\\axes\\_axes.py\u001b[0m in \u001b[0;36mplot\u001b[1;34m(self, scalex, scaley, data, *args, **kwargs)\u001b[0m\n\u001b[0;32m   1603\u001b[0m         \"\"\"\n\u001b[0;32m   1604\u001b[0m         \u001b[0mkwargs\u001b[0m \u001b[1;33m=\u001b[0m \u001b[0mcbook\u001b[0m\u001b[1;33m.\u001b[0m\u001b[0mnormalize_kwargs\u001b[0m\u001b[1;33m(\u001b[0m\u001b[0mkwargs\u001b[0m\u001b[1;33m,\u001b[0m \u001b[0mmlines\u001b[0m\u001b[1;33m.\u001b[0m\u001b[0mLine2D\u001b[0m\u001b[1;33m)\u001b[0m\u001b[1;33m\u001b[0m\u001b[1;33m\u001b[0m\u001b[0m\n\u001b[1;32m-> 1605\u001b[1;33m         \u001b[0mlines\u001b[0m \u001b[1;33m=\u001b[0m \u001b[1;33m[\u001b[0m\u001b[1;33m*\u001b[0m\u001b[0mself\u001b[0m\u001b[1;33m.\u001b[0m\u001b[0m_get_lines\u001b[0m\u001b[1;33m(\u001b[0m\u001b[1;33m*\u001b[0m\u001b[0margs\u001b[0m\u001b[1;33m,\u001b[0m \u001b[0mdata\u001b[0m\u001b[1;33m=\u001b[0m\u001b[0mdata\u001b[0m\u001b[1;33m,\u001b[0m \u001b[1;33m**\u001b[0m\u001b[0mkwargs\u001b[0m\u001b[1;33m)\u001b[0m\u001b[1;33m]\u001b[0m\u001b[1;33m\u001b[0m\u001b[1;33m\u001b[0m\u001b[0m\n\u001b[0m\u001b[0;32m   1606\u001b[0m         \u001b[1;32mfor\u001b[0m \u001b[0mline\u001b[0m \u001b[1;32min\u001b[0m \u001b[0mlines\u001b[0m\u001b[1;33m:\u001b[0m\u001b[1;33m\u001b[0m\u001b[1;33m\u001b[0m\u001b[0m\n\u001b[0;32m   1607\u001b[0m             \u001b[0mself\u001b[0m\u001b[1;33m.\u001b[0m\u001b[0madd_line\u001b[0m\u001b[1;33m(\u001b[0m\u001b[0mline\u001b[0m\u001b[1;33m)\u001b[0m\u001b[1;33m\u001b[0m\u001b[1;33m\u001b[0m\u001b[0m\n",
      "\u001b[1;32mc:\\users\\김준한\\appdata\\local\\programs\\python\\python39\\lib\\site-packages\\matplotlib\\axes\\_base.py\u001b[0m in \u001b[0;36m__call__\u001b[1;34m(self, data, *args, **kwargs)\u001b[0m\n\u001b[0;32m    313\u001b[0m                 \u001b[0mthis\u001b[0m \u001b[1;33m+=\u001b[0m \u001b[0margs\u001b[0m\u001b[1;33m[\u001b[0m\u001b[1;36m0\u001b[0m\u001b[1;33m]\u001b[0m\u001b[1;33m,\u001b[0m\u001b[1;33m\u001b[0m\u001b[1;33m\u001b[0m\u001b[0m\n\u001b[0;32m    314\u001b[0m                 \u001b[0margs\u001b[0m \u001b[1;33m=\u001b[0m \u001b[0margs\u001b[0m\u001b[1;33m[\u001b[0m\u001b[1;36m1\u001b[0m\u001b[1;33m:\u001b[0m\u001b[1;33m]\u001b[0m\u001b[1;33m\u001b[0m\u001b[1;33m\u001b[0m\u001b[0m\n\u001b[1;32m--> 315\u001b[1;33m             \u001b[1;32myield\u001b[0m \u001b[1;32mfrom\u001b[0m \u001b[0mself\u001b[0m\u001b[1;33m.\u001b[0m\u001b[0m_plot_args\u001b[0m\u001b[1;33m(\u001b[0m\u001b[0mthis\u001b[0m\u001b[1;33m,\u001b[0m \u001b[0mkwargs\u001b[0m\u001b[1;33m)\u001b[0m\u001b[1;33m\u001b[0m\u001b[1;33m\u001b[0m\u001b[0m\n\u001b[0m\u001b[0;32m    316\u001b[0m \u001b[1;33m\u001b[0m\u001b[0m\n\u001b[0;32m    317\u001b[0m     \u001b[1;32mdef\u001b[0m \u001b[0mget_next_color\u001b[0m\u001b[1;33m(\u001b[0m\u001b[0mself\u001b[0m\u001b[1;33m)\u001b[0m\u001b[1;33m:\u001b[0m\u001b[1;33m\u001b[0m\u001b[1;33m\u001b[0m\u001b[0m\n",
      "\u001b[1;32mc:\\users\\김준한\\appdata\\local\\programs\\python\\python39\\lib\\site-packages\\matplotlib\\axes\\_base.py\u001b[0m in \u001b[0;36m_plot_args\u001b[1;34m(self, tup, kwargs, return_kwargs)\u001b[0m\n\u001b[0;32m    499\u001b[0m \u001b[1;33m\u001b[0m\u001b[0m\n\u001b[0;32m    500\u001b[0m         \u001b[1;32mif\u001b[0m \u001b[0mx\u001b[0m\u001b[1;33m.\u001b[0m\u001b[0mshape\u001b[0m\u001b[1;33m[\u001b[0m\u001b[1;36m0\u001b[0m\u001b[1;33m]\u001b[0m \u001b[1;33m!=\u001b[0m \u001b[0my\u001b[0m\u001b[1;33m.\u001b[0m\u001b[0mshape\u001b[0m\u001b[1;33m[\u001b[0m\u001b[1;36m0\u001b[0m\u001b[1;33m]\u001b[0m\u001b[1;33m:\u001b[0m\u001b[1;33m\u001b[0m\u001b[1;33m\u001b[0m\u001b[0m\n\u001b[1;32m--> 501\u001b[1;33m             raise ValueError(f\"x and y must have same first dimension, but \"\n\u001b[0m\u001b[0;32m    502\u001b[0m                              f\"have shapes {x.shape} and {y.shape}\")\n\u001b[0;32m    503\u001b[0m         \u001b[1;32mif\u001b[0m \u001b[0mx\u001b[0m\u001b[1;33m.\u001b[0m\u001b[0mndim\u001b[0m \u001b[1;33m>\u001b[0m \u001b[1;36m2\u001b[0m \u001b[1;32mor\u001b[0m \u001b[0my\u001b[0m\u001b[1;33m.\u001b[0m\u001b[0mndim\u001b[0m \u001b[1;33m>\u001b[0m \u001b[1;36m2\u001b[0m\u001b[1;33m:\u001b[0m\u001b[1;33m\u001b[0m\u001b[1;33m\u001b[0m\u001b[0m\n",
      "\u001b[1;31mValueError\u001b[0m: x and y must have same first dimension, but have shapes (1,) and (5, 15)"
     ]
    },
    {
     "data": {
      "image/png": "[encoded data removed]",
      "text/plain": [
       "<Figure size 432x288 with 1 Axes>"
      ]
     },
     "metadata": {
      "needs_background": "light"
     },
     "output_type": "display_data"
    }
   ],
   "source": [
    "plt.plot(x_list, y_list, 'b:', linewidth=2, label=\"Original Function\")\n",
    "plt.plot(x_list[i], y_est, 'm-', linewidth=2, label=\"Polynomial Regression (d={})\".format(degree))\n",
    "plt.scatter(x_data, y_data, s=50, c='r', label=\"Data Points\")\n",
    "plt.xlim([np.min(x_list),np.max(x_list)])\n",
    "plt.ylim([np.min(y_data),np.max(y_data)])\n",
    "plt.legend(prop={'size': 12})\n",
    "plt.title(\"Data Plot\")\n",
    "plt.show()"
   ]
  },
  {
   "cell_type": "markdown",
   "id": "respective-perfume",
   "metadata": {},
   "source": [
    "### 3. Compute the polynomial regression with $1$ degree polynomials (15pt)\n",
    "- Repeat Problem 1 and Problem 2 with degree $1$.\n",
    "- Use the following variables.\n",
    "> degree1, A1, w_est1, y_est1"
   ]
  },
  {
   "cell_type": "code",
   "execution_count": null,
   "id": "australian-italy",
   "metadata": {},
   "outputs": [],
   "source": [
    "degree1 = 1\n",
    "A1 = np.zeros((n_data, degree1+1)) \n",
    "w_est1 = np.zeros((degree1+1,1))\n",
    "y_est1 = np.zeros_like(x_list)"
   ]
  },
  {
   "cell_type": "markdown",
   "id": "filled-distinction",
   "metadata": {},
   "source": [
    "### Print results (do not modify the following block)"
   ]
  },
  {
   "cell_type": "code",
   "execution_count": null,
   "id": "human-montgomery",
   "metadata": {},
   "outputs": [],
   "source": [
    "plt.plot(x_list, y_list, 'b:', linewidth=2, label=\"Original Function\")\n",
    "plt.plot(x_list, y_est1, 'g-', linewidth=2, label=\"Polynomial Regression (d={})\".format(degree1))\n",
    "plt.scatter(x_data, y_data, s=50, c='r', label=\"Data Points\")\n",
    "plt.xlim([np.min(x_list),np.max(x_list)])\n",
    "plt.ylim([np.min(y_data),np.max(y_data)])\n",
    "plt.legend(prop={'size': 12})\n",
    "plt.title(\"Data Plot\")\n",
    "plt.show()"
   ]
  },
  {
   "cell_type": "markdown",
   "id": "rapid-reporter",
   "metadata": {},
   "source": [
    "### 4. Compute the polynomial regression with $10$ degree polynomials (15pt)\n",
    "- Repeat Problem 1 and Problem 2 with degree $10$.\n",
    "- Use the following variables.\n",
    "> degree2, A2, w_est2, y_est2"
   ]
  },
  {
   "cell_type": "code",
   "execution_count": null,
   "id": "wooden-stanley",
   "metadata": {},
   "outputs": [],
   "source": [
    "degree2 = 1\n",
    "A2 = np.zeros((n_data, degree2+1))\n",
    "w_est2 = np.zeros((degree2+1,1))\n",
    "y_est2 = np.zeros_like(x_list)"
   ]
  },
  {
   "cell_type": "markdown",
   "id": "awful-headset",
   "metadata": {},
   "source": [
    "### Print results (do not modify the following block)"
   ]
  },
  {
   "cell_type": "code",
   "execution_count": null,
   "id": "dying-international",
   "metadata": {},
   "outputs": [],
   "source": [
    "plt.plot(x_list, y_list, 'b:', linewidth=2, label=\"Original Function\")\n",
    "plt.plot(x_list, y_est2, 'c-', linewidth=2, label=\"Polynomial Regression (d={})\".format(degree2))\n",
    "plt.scatter(x_data, y_data, s=50, c='r', label=\"Data Points\")\n",
    "plt.xlim([np.min(x_list),np.max(x_list)])\n",
    "plt.ylim([np.min(y_data),np.max(y_data)])\n",
    "plt.legend(prop={'size': 12})\n",
    "plt.title(\"Data Plot\")\n",
    "plt.show()"
   ]
  },
  {
   "cell_type": "markdown",
   "id": "liked-kennedy",
   "metadata": {},
   "source": [
    "### 5. [Challenging Problem] Explain the effect of degree (20pt)\n",
    "- By solving the above problems, we can observe the behaviors of polynomial regression with different degrees (1, 4, 10)\n",
    "- Explain pros and cons of high degree polynomial\n",
    "- Explain pros and cons of low degree polynomial\n",
    "- What is this phenomenon called in machine learning?"
   ]
  },
  {
   "cell_type": "markdown",
   "id": "further-radar",
   "metadata": {},
   "source": [
    "### The following figure shows all regression results with different degrees."
   ]
  },
  {
   "cell_type": "code",
   "execution_count": null,
   "id": "historical-basket",
   "metadata": {},
   "outputs": [],
   "source": [
    "plt.plot(x_list, y_list, 'b:', linewidth=2, label=\"Original Function\")\n",
    "plt.plot(x_list, y_est, 'm-', linewidth=2, label=\"Polynomial Regression (d={})\".format(1))\n",
    "plt.plot(x_list, y_est1, 'g-', linewidth=2, label=\"Polynomial Regression (d={})\".format(4))\n",
    "plt.plot(x_list, y_est2, 'c-', linewidth=2, label=\"Polynomial Regression (d={})\".format(10))\n",
    "plt.scatter(x_data, y_data, s=50, c='r', label=\"Data Points\")\n",
    "plt.xlim([np.min(x_list),np.max(x_list)])\n",
    "plt.ylim([np.min(y_data),np.max(y_data)])\n",
    "plt.legend(prop={'size': 12})\n",
    "plt.title(\"Data Plot\")\n",
    "plt.show()"
   ]
  },
  {
   "cell_type": "markdown",
   "id": "negative-toronto",
   "metadata": {},
   "source": [
    "Write your answer!!!"
   ]
  }
 ],
 "metadata": {
  "kernelspec": {
   "display_name": "Python 3",
   "language": "python",
   "name": "python3"
  },
  "language_info": {
   "codemirror_mode": {
    "name": "ipython",
    "version": 3
   },
   "file_extension": ".py",
   "mimetype": "text/x-python",
   "name": "python",
   "nbconvert_exporter": "python",
   "pygments_lexer": "ipython3",
   "version": "3.9.2"
  }
 },
 "nbformat": 4,
 "nbformat_minor": 5
}
